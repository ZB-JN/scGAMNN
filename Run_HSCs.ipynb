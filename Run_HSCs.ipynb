{
 "cells": [
  {
   "cell_type": "code",
   "execution_count": 1,
   "metadata": {
    "pycharm": {
     "name": "#%%\n"
    }
   },
   "outputs": [
    {
     "name": "stdout",
     "output_type": "stream",
     "text": [
      "Running Scanpy 1.9.1, on 2023-07-13 15:41.\n",
      "normalizing by total count per cell\n",
      "    finished (0:00:00): normalized adata.X and added    'n_counts', counts per cell before normalization (adata.obs)\n",
      "If you pass `n_top_genes`, all cutoffs are ignored.\n",
      "extracting highly variable genes\n",
      "--> added\n",
      "    'highly_variable', boolean vector (adata.var)\n",
      "    'highly_variable_rank', float vector (adata.var)\n",
      "    'means', float vector (adata.var)\n",
      "    'variances', float vector (adata.var)\n",
      "    'variances_norm', float vector (adata.var)\n",
      "computing PCA\n",
      "    on highly variable genes\n",
      "    with n_comps=50\n",
      "    finished (0:00:01)\n"
     ]
    }
   ],
   "source": [
    "%load_ext memory_profiler\n",
    "import os\n",
    "import tensorflow as tf\n",
    "import warnings\n",
    "import numpy as np\n",
    "import pandas as pd\n",
    "import scanpy as sc\n",
    "\n",
    "warnings.simplefilter(action='ignore', category=FutureWarning)\n",
    "tf.compat.v1.logging.set_verbosity(tf.compat.v1.logging.ERROR)\n",
    "\n",
    "from scgamnn import scGAMNN\n",
    "from utils import *\n",
    "from metrics import *\n",
    "warnings.filterwarnings(\"ignore\")\n",
    "\n",
    "sc.settings.verbosity = 3\n",
    "sc.settings.set_figure_params(dpi=100)\n",
    "sc.settings.set_figure_params(dpi_save=300)\n",
    "sc.logging.print_version_and_date()\n",
    "\n",
    "adata1  = sc.read_csv(\"E:/scGAMNN/data/HSCs/Data1.csv\")\n",
    "adata2 = sc.read_csv(\"E:/scGAMNN/data/HSCs/Data2.csv\")\n",
    "adata = adata1.concatenate(adata2)\n",
    "ident1 = pd.read_csv(\"E:/scGAMNN/data/HSCs/label1.csv\")\n",
    "ident2 = pd.read_csv(\"E:/scGAMNN/data/HSCs/label2.csv\")\n",
    "idents= np.vstack((ident1,ident2))\n",
    "adata.obs['celltype'] = idents\n",
    "match = np.array(pd.read_csv(\"E:/scGAMNN/data/HSCs/match.csv\"))\n",
    "sc.pp.normalize_per_cell(adata, counts_per_cell_after=1e4)\n",
    "sc.pp.log1p(adata)\n",
    "adata.obs[\"batch\"] = np.array([0] * len(ident1) + [1] * len(ident2))\n",
    "sc.pp.highly_variable_genes(adata, n_top_genes=2000, flavor='seurat_v3',batch_key='batch')\n",
    "adata = adata[:,adata.var.highly_variable]\n",
    "sc.pp.scale(adata, max_value=10)\n",
    "sc.tl.pca(adata, svd_solver='arpack')\n",
    "adatas = [adata[adata.obs['batch'] == i,:].copy() for i in [0,1]]\n",
    "scaledata = adata.X\n",
    "adj,adj_n=construct_graph(adatas,match)"
   ]
  },
  {
   "cell_type": "code",
   "execution_count": 2,
   "metadata": {
    "pycharm": {
     "name": "#%%\n"
    }
   },
   "outputs": [],
   "source": [
    "model = scGAMNN( scaledata,adj, adj_n, match=match,hidden_dim = 120, latent_dim = 50, decA = \"DBL\", layer_enc = \"GCN\")\n"
   ]
  },
  {
   "cell_type": "code",
   "execution_count": 3,
   "metadata": {
    "pycharm": {
     "name": "#%%\n"
    }
   },
   "outputs": [
    {
     "name": "stdout",
     "output_type": "stream",
     "text": [
      "Epoch 1  X_rec_loss: 0.800373   A_rec_loss: 0.14369944   MNN_loss: 0.14369944  total_loss:  1.0463367\n",
      "Learning rate = 0.0020000\n",
      "Epoch 2  X_rec_loss: 0.7996439   A_rec_loss: 0.01712969   MNN_loss: 0.01712969  total_loss:  0.9396362\n",
      "Learning rate = 0.0020000\n",
      "Epoch 3  X_rec_loss: 0.79583263   A_rec_loss: 0.0023525045   MNN_loss: 0.0023525045  total_loss:  0.9276368\n",
      "Learning rate = 0.0020000\n",
      "Epoch 4  X_rec_loss: 0.79122937   A_rec_loss: 0.002352531   MNN_loss: 0.002352531  total_loss:  0.926004\n",
      "Learning rate = 0.0020000\n",
      "Epoch 5  X_rec_loss: 0.7843881   A_rec_loss: 0.002352534   MNN_loss: 0.002352534  total_loss:  0.91580564\n",
      "Learning rate = 0.0020000\n",
      "Epoch 6  X_rec_loss: 0.77489835   A_rec_loss: 0.002352534   MNN_loss: 0.002352534  total_loss:  0.90462065\n",
      "Learning rate = 0.0020000\n",
      "Epoch 7  X_rec_loss: 0.7657301   A_rec_loss: 0.002352534   MNN_loss: 0.002352534  total_loss:  0.89600575\n",
      "Learning rate = 0.0020000\n",
      "Epoch 8  X_rec_loss: 0.7593028   A_rec_loss: 0.0023525346   MNN_loss: 0.0023525346  total_loss:  0.8865634\n",
      "Learning rate = 0.0020000\n",
      "Epoch 9  X_rec_loss: 0.7538997   A_rec_loss: 0.0023525346   MNN_loss: 0.0023525346  total_loss:  0.8771508\n",
      "Learning rate = 0.0020000\n",
      "Epoch 10  X_rec_loss: 0.7476989   A_rec_loss: 0.0023525346   MNN_loss: 0.0023525346  total_loss:  0.8690563\n",
      "Learning rate = 0.0020000\n",
      "Epoch 11  X_rec_loss: 0.7411838   A_rec_loss: 0.0023525346   MNN_loss: 0.0023525346  total_loss:  0.8603692\n",
      "Learning rate = 0.0020000\n",
      "Epoch 12  X_rec_loss: 0.73396945   A_rec_loss: 0.0023525346   MNN_loss: 0.0023525346  total_loss:  0.84996873\n",
      "Learning rate = 0.0020000\n",
      "Epoch 13  X_rec_loss: 0.72878677   A_rec_loss: 0.0023525346   MNN_loss: 0.0023525346  total_loss:  0.84054685\n",
      "Learning rate = 0.0020000\n",
      "Epoch 14  X_rec_loss: 0.7243162   A_rec_loss: 0.0023525346   MNN_loss: 0.0023525346  total_loss:  0.8311252\n",
      "Learning rate = 0.0020000\n",
      "Epoch 15  X_rec_loss: 0.72179323   A_rec_loss: 0.0023525346   MNN_loss: 0.0023525346  total_loss:  0.8244709\n",
      "Learning rate = 0.0020000\n",
      "Epoch 16  X_rec_loss: 0.717633   A_rec_loss: 0.0023525346   MNN_loss: 0.0023525346  total_loss:  0.8168128\n",
      "Learning rate = 0.0020000\n",
      "Epoch 17  X_rec_loss: 0.7171188   A_rec_loss: 0.0023525346   MNN_loss: 0.0023525346  total_loss:  0.8129193\n",
      "Learning rate = 0.0020000\n",
      "Epoch 18  X_rec_loss: 0.7187682   A_rec_loss: 0.0023525346   MNN_loss: 0.0023525346  total_loss:  0.809961\n",
      "Learning rate = 0.0020000\n",
      "Epoch 19  X_rec_loss: 0.7089207   A_rec_loss: 0.0023525346   MNN_loss: 0.0023525346  total_loss:  0.7993828\n",
      "Learning rate = 0.0020000\n",
      "Epoch 20  X_rec_loss: 0.7090504   A_rec_loss: 0.0023525346   MNN_loss: 0.0023525346  total_loss:  0.7966944\n",
      "Learning rate = 0.0020000\n",
      "Epoch 21  X_rec_loss: 0.70958775   A_rec_loss: 0.0023525346   MNN_loss: 0.0023525346  total_loss:  0.7910849\n",
      "Learning rate = 0.0020000\n",
      "Epoch 22  X_rec_loss: 0.7060224   A_rec_loss: 0.002352534   MNN_loss: 0.002352534  total_loss:  0.7845946\n",
      "Learning rate = 0.0020000\n",
      "Epoch 23  X_rec_loss: 0.703853   A_rec_loss: 0.0023525334   MNN_loss: 0.0023525334  total_loss:  0.782525\n",
      "Learning rate = 0.0020000\n",
      "Epoch 24  X_rec_loss: 0.70185745   A_rec_loss: 0.0023525313   MNN_loss: 0.0023525313  total_loss:  0.77514863\n",
      "Learning rate = 0.0016000\n",
      "Epoch 25  X_rec_loss: 0.7046687   A_rec_loss: 0.002352523   MNN_loss: 0.002352523  total_loss:  0.7727737\n",
      "Learning rate = 0.0016000\n",
      "Epoch 26  X_rec_loss: 0.69974065   A_rec_loss: 0.0023525078   MNN_loss: 0.0023525078  total_loss:  0.7668496\n",
      "Learning rate = 0.0016000\n",
      "Epoch 27  X_rec_loss: 0.69897854   A_rec_loss: 0.0023524866   MNN_loss: 0.0023524866  total_loss:  0.76509565\n",
      "Learning rate = 0.0016000\n",
      "Epoch 28  X_rec_loss: 0.69844943   A_rec_loss: 0.0023524323   MNN_loss: 0.0023524323  total_loss:  0.76076514\n",
      "Learning rate = 0.0016000\n",
      "Epoch 29  X_rec_loss: 0.69831634   A_rec_loss: 0.0023523702   MNN_loss: 0.0023523702  total_loss:  0.7580389\n",
      "Learning rate = 0.0016000\n",
      "Epoch 30  X_rec_loss: 0.6973252   A_rec_loss: 0.0023523956   MNN_loss: 0.0023523956  total_loss:  0.75626945\n",
      "Learning rate = 0.0016000\n",
      "Epoch 31  X_rec_loss: 0.6948886   A_rec_loss: 0.0023526407   MNN_loss: 0.0023526407  total_loss:  0.75179803\n",
      "Learning rate = 0.0016000\n",
      "Epoch 32  X_rec_loss: 0.6960141   A_rec_loss: 0.0023536503   MNN_loss: 0.0023536503  total_loss:  0.7508548\n",
      "Learning rate = 0.0016000\n",
      "Epoch 33  X_rec_loss: 0.69301003   A_rec_loss: 0.0023564762   MNN_loss: 0.0023564762  total_loss:  0.74679285\n",
      "Learning rate = 0.0016000\n",
      "Epoch 34  X_rec_loss: 0.69311213   A_rec_loss: 0.0023622802   MNN_loss: 0.0023622802  total_loss:  0.74507856\n",
      "Learning rate = 0.0016000\n",
      "Epoch 35  X_rec_loss: 0.69362223   A_rec_loss: 0.002372536   MNN_loss: 0.002372536  total_loss:  0.74316865\n",
      "Learning rate = 0.0016000\n",
      "Epoch 36  X_rec_loss: 0.6913194   A_rec_loss: 0.0023983652   MNN_loss: 0.0023983652  total_loss:  0.740484\n",
      "Learning rate = 0.0016000\n",
      "Epoch 37  X_rec_loss: 0.6915488   A_rec_loss: 0.002430847   MNN_loss: 0.002430847  total_loss:  0.7399951\n",
      "Learning rate = 0.0016000\n",
      "Epoch 38  X_rec_loss: 0.69251317   A_rec_loss: 0.002526299   MNN_loss: 0.002526299  total_loss:  0.7386247\n",
      "Learning rate = 0.0016000\n",
      "Epoch 39  X_rec_loss: 0.69027835   A_rec_loss: 0.0024835796   MNN_loss: 0.0024835796  total_loss:  0.736407\n",
      "Learning rate = 0.0016000\n",
      "Epoch 40  X_rec_loss: 0.6879763   A_rec_loss: 0.0025165302   MNN_loss: 0.0025165302  total_loss:  0.73325866\n",
      "Learning rate = 0.0016000\n",
      "Epoch 41  X_rec_loss: 0.6896831   A_rec_loss: 0.0025313369   MNN_loss: 0.0025313369  total_loss:  0.7326813\n",
      "Learning rate = 0.0016000\n",
      "Epoch 42  X_rec_loss: 0.6909108   A_rec_loss: 0.0024798107   MNN_loss: 0.0024798107  total_loss:  0.73366356\n",
      "Learning rate = 0.0016000\n",
      "Epoch 43  X_rec_loss: 0.68837327   A_rec_loss: 0.0025401576   MNN_loss: 0.0025401576  total_loss:  0.72982335\n",
      "Learning rate = 0.0016000\n",
      "Epoch 44  X_rec_loss: 0.68691546   A_rec_loss: 0.0025416566   MNN_loss: 0.0025416566  total_loss:  0.72884995\n",
      "Learning rate = 0.0016000\n",
      "Epoch 45  X_rec_loss: 0.68865657   A_rec_loss: 0.0025227352   MNN_loss: 0.0025227352  total_loss:  0.7287912\n",
      "Learning rate = 0.0016000\n",
      "Epoch 46  X_rec_loss: 0.6866116   A_rec_loss: 0.0025963078   MNN_loss: 0.0025963078  total_loss:  0.72580004\n",
      "Learning rate = 0.0016000\n",
      "Epoch 47  X_rec_loss: 0.6875419   A_rec_loss: 0.0026227871   MNN_loss: 0.0026227871  total_loss:  0.72761625\n",
      "Learning rate = 0.0016000\n",
      "Epoch 48  X_rec_loss: 0.6874582   A_rec_loss: 0.002566017   MNN_loss: 0.002566017  total_loss:  0.72549427\n",
      "Learning rate = 0.0016000\n",
      "Epoch 49  X_rec_loss: 0.6841224   A_rec_loss: 0.002602052   MNN_loss: 0.002602052  total_loss:  0.7226155\n",
      "Learning rate = 0.0012800\n",
      "Epoch 50  X_rec_loss: 0.68443346   A_rec_loss: 0.002676147   MNN_loss: 0.002676147  total_loss:  0.7222698\n",
      "Learning rate = 0.0012800\n",
      "Epoch 51  X_rec_loss: 0.6818237   A_rec_loss: 0.0025965914   MNN_loss: 0.0025965914  total_loss:  0.7189962\n",
      "Learning rate = 0.0012800\n",
      "Epoch 52  X_rec_loss: 0.68311524   A_rec_loss: 0.0025463987   MNN_loss: 0.0025463987  total_loss:  0.71960896\n",
      "Learning rate = 0.0012800\n",
      "Epoch 53  X_rec_loss: 0.6816643   A_rec_loss: 0.0025884067   MNN_loss: 0.0025884067  total_loss:  0.7173661\n",
      "Learning rate = 0.0012800\n",
      "Epoch 54  X_rec_loss: 0.680758   A_rec_loss: 0.0026183357   MNN_loss: 0.0026183357  total_loss:  0.71690536\n",
      "Learning rate = 0.0012800\n",
      "Epoch 55  X_rec_loss: 0.68018645   A_rec_loss: 0.0026008205   MNN_loss: 0.0026008205  total_loss:  0.71546763\n",
      "Learning rate = 0.0012800\n",
      "Epoch 56  X_rec_loss: 0.68023527   A_rec_loss: 0.002564277   MNN_loss: 0.002564277  total_loss:  0.7144973\n",
      "Learning rate = 0.0012800\n",
      "Epoch 57  X_rec_loss: 0.68021464   A_rec_loss: 0.002554233   MNN_loss: 0.002554233  total_loss:  0.7142811\n",
      "Learning rate = 0.0012800\n",
      "Epoch 58  X_rec_loss: 0.68008775   A_rec_loss: 0.0025873561   MNN_loss: 0.0025873561  total_loss:  0.713675\n",
      "Learning rate = 0.0012800\n",
      "Epoch 59  X_rec_loss: 0.6782212   A_rec_loss: 0.0025901524   MNN_loss: 0.0025901524  total_loss:  0.71210766\n",
      "Learning rate = 0.0012800\n",
      "Epoch 60  X_rec_loss: 0.6786107   A_rec_loss: 0.0025549328   MNN_loss: 0.0025549328  total_loss:  0.7116234\n",
      "Learning rate = 0.0012800\n",
      "Epoch 61  X_rec_loss: 0.68023145   A_rec_loss: 0.002527559   MNN_loss: 0.002527559  total_loss:  0.71265364\n",
      "Learning rate = 0.0012800\n",
      "Epoch 62  X_rec_loss: 0.6775829   A_rec_loss: 0.0025609815   MNN_loss: 0.0025609815  total_loss:  0.70993024\n",
      "Learning rate = 0.0012800\n"
     ]
    },
    {
     "name": "stdout",
     "output_type": "stream",
     "text": [
      "Epoch 63  X_rec_loss: 0.67809343   A_rec_loss: 0.0025562847   MNN_loss: 0.0025562847  total_loss:  0.7111066\n",
      "Learning rate = 0.0012800\n",
      "Epoch 64  X_rec_loss: 0.68210846   A_rec_loss: 0.0025484336   MNN_loss: 0.0025484336  total_loss:  0.71322525\n",
      "Learning rate = 0.0012800\n",
      "Early stopping...\n",
      "train Finish!\n",
      "peak memory: 1280.01 MiB, increment: 455.95 MiB\n",
      "time used: 56.34863066673279\n"
     ]
    }
   ],
   "source": [
    "import time\n",
    "time_s = time.time()\n",
    "%memit model.train(epochs=200, W_a=1, W_x=1, W_w=0.05)\n",
    "print('time used:', time.time()-time_s)"
   ]
  },
  {
   "cell_type": "code",
   "execution_count": 4,
   "metadata": {
    "pycharm": {
     "name": "#%%\n"
    }
   },
   "outputs": [
    {
     "name": "stdout",
     "output_type": "stream",
     "text": [
      "computing neighbors\n",
      "    using data matrix X directly\n",
      "    finished: added to `.uns['neighbors']`\n",
      "    `.obsp['distances']`, distances for each pair of neighbors\n",
      "    `.obsp['connectivities']`, weighted adjacency matrix (0:00:09)\n",
      "computing UMAP\n",
      "    finished: added\n",
      "    'X_umap', UMAP coordinates (adata.obsm) (0:00:06)\n"
     ]
    }
   ],
   "source": [
    "import anndata as ad\n",
    "adata_scGAMNN=ad.AnnData(model.embedding(scaledata, adj_n))\n",
    "sc.pp.neighbors(adata_scGAMNN)\n",
    "sc.tl.umap(adata_scGAMNN)\n",
    "adata_scGAMNN.obs[\"batch\"] = np.array(['Smart-seq2'] * len(ident1)+['MARS-seq'] * len(ident2))\n",
    "adata_scGAMNN.obs[\"celltype\"] =adata.obs[\"celltype\"].to_list()\n",
    "\n",
    "\n",
    "rep={'GMP':'0','CMP':'1','MEP':'2'}\n",
    "times=[rep[i] if i in rep else i for i in pd.DataFrame(idents)[0]]\n",
    "#列表中字符串转为数字\n",
    "times=list(map(int,times))\n",
    "\n"
   ]
  },
  {
   "cell_type": "code",
   "execution_count": 5,
   "metadata": {},
   "outputs": [
    {
     "name": "stdout",
     "output_type": "stream",
     "text": [
      "[[10.2913265 -4.353655 ]\n",
      " [ 4.560591  -2.6001515]\n",
      " [ 7.376766  -4.860848 ]\n",
      " ...\n",
      " [ 1.3097748 -2.5454838]\n",
      " [ 8.475206   0.4563687]\n",
      " [-6.339938  -1.999099 ]] ASW_c: 0.6729 ASW_b: 0.7736 \n"
     ]
    }
   ],
   "source": [
    "inte_scGAMNN=integrate_indicators (np.array(adata_scGAMNN.obsm['X_umap']),np.array(adata_scGAMNN.obs['batch']),np.array(adata_scGAMNN.obs['celltype']),np.array(adata_scGAMNN.obsm['X_umap']))\n",
    "inte_scGAMNN_df=pd.DataFrame.from_dict(inte_scGAMNN,orient='index').T"
   ]
  },
  {
   "cell_type": "code",
   "execution_count": 6,
   "metadata": {
    "pycharm": {
     "name": "#%%\n"
    }
   },
   "outputs": [
    {
     "name": "stdout",
     "output_type": "stream",
     "text": [
      "computing neighbors\n",
      "    using data matrix X directly\n",
      "    finished: added to `.uns['neighbors']`\n",
      "    `.obsp['distances']`, distances for each pair of neighbors\n",
      "    `.obsp['connectivities']`, weighted adjacency matrix (0:00:00)\n",
      "computing Diffusion Maps using n_comps=15(=n_dcs)\n",
      "computing transitions\n",
      "    finished (0:00:00)\n",
      "    eigenvalues of transition matrix\n",
      "    [1.         0.99391747 0.9851337  0.978026   0.95963407 0.9455159\n",
      "     0.9379841  0.9264662  0.9112074  0.9034783  0.90009785 0.88951\n",
      "     0.8745596  0.859845   0.85029197]\n",
      "    finished: added\n",
      "    'X_diffmap', diffmap coordinates (adata.obsm)\n",
      "    'diffmap_evals', eigenvalues of transition matrix (adata.uns) (0:00:00)\n",
      "computing Diffusion Pseudotime using n_dcs=10\n",
      "    finished: added\n",
      "    'dpt_pseudotime', the pseudotime (adata.obs) (0:00:00)\n",
      "normalizing by total count per cell\n",
      "    finished (0:00:00): normalized adata.X and added    'n_counts', counts per cell before normalization (adata.obs)\n",
      "If you pass `n_top_genes`, all cutoffs are ignored.\n",
      "extracting highly variable genes\n",
      "    finished (0:00:00)\n",
      "--> added\n",
      "    'highly_variable', boolean vector (adata.var)\n",
      "    'means', float vector (adata.var)\n",
      "    'dispersions', float vector (adata.var)\n",
      "    'dispersions_norm', float vector (adata.var)\n",
      "computing PCA\n",
      "    on highly variable genes\n",
      "    with n_comps=50\n",
      "    finished (0:00:00)\n",
      "computing neighbors\n",
      "    using 'X_pca' with n_pcs = 50\n",
      "    finished: added to `.uns['neighbors']`\n",
      "    `.obsp['distances']`, distances for each pair of neighbors\n",
      "    `.obsp['connectivities']`, weighted adjacency matrix (0:00:00)\n",
      "computing Diffusion Maps using n_comps=15(=n_dcs)\n",
      "computing transitions\n",
      "    finished (0:00:00)\n",
      "    eigenvalues of transition matrix\n",
      "    [1.         0.988217   0.96726155 0.9218342  0.906423   0.8909886\n",
      "     0.88867104 0.8641985  0.84292525 0.8363184  0.8120728  0.80053115\n",
      "     0.79767096 0.7767819  0.762835  ]\n",
      "    finished: added\n",
      "    'X_diffmap', diffmap coordinates (adata.obsm)\n",
      "    'diffmap_evals', eigenvalues of transition matrix (adata.uns) (0:00:00)\n",
      "computing Diffusion Pseudotime using n_dcs=10\n",
      "    finished: added\n",
      "    'dpt_pseudotime', the pseudotime (adata.obs) (0:00:00)\n",
      "0.7406128248474604\n",
      "2.887897503206208e-219\n"
     ]
    }
   ],
   "source": [
    "adata1  = sc.read_csv(\"E:/scGAMNN/data/HSCs/Data1.csv\")\n",
    "adata2 = sc.read_csv(\"E:/scGAMNN/data/HSCs/Data2.csv\")\n",
    "\n",
    "import anndata as ad\n",
    "adata_1in=ad.AnnData(adata_scGAMNN.X[0:813,],var=adata_scGAMNN.var)\n",
    "adata_1in.obs['times'] = times[0:813]\n",
    "sc.pp.neighbors(adata_1in)\n",
    "sc.tl.diffmap(adata_1in)\n",
    "root1=np.flatnonzero(adata_1in.obs['times'] == 1) [0] \n",
    "adata_1in.uns['iroot'] = root1\n",
    "sc.tl.dpt(adata_1in)\n",
    "\n",
    "adata1.obs['times'] = times[0:813]\n",
    "sc.pp.normalize_per_cell(adata1)\n",
    "sc.pp.log1p(adata1)\n",
    "sc.pp.highly_variable_genes(adata1, n_top_genes=2000, flavor='seurat')\n",
    "adata1 = adata1[:,adata1.var['highly_variable']]\n",
    "sc.tl.pca(adata1, svd_solver='arpack')\n",
    "sc.pp.neighbors(adata1)\n",
    "sc.tl.diffmap(adata1)\n",
    "adata1.uns['iroot'] = root1\n",
    "sc.tl.dpt(adata1)\n",
    "\n",
    "import scipy.stats as stats\n",
    "tau1, p_value = stats.kendalltau(adata1.obs['dpt_pseudotime'], adata_1in.obs[\"dpt_pseudotime\"])\n",
    "print(tau1)\n",
    "print(p_value)"
   ]
  },
  {
   "cell_type": "code",
   "execution_count": 7,
   "metadata": {
    "pycharm": {
     "name": "#%%\n"
    }
   },
   "outputs": [
    {
     "name": "stdout",
     "output_type": "stream",
     "text": [
      "computing neighbors\n",
      "    using data matrix X directly\n",
      "    finished: added to `.uns['neighbors']`\n",
      "    `.obsp['distances']`, distances for each pair of neighbors\n",
      "    `.obsp['connectivities']`, weighted adjacency matrix (0:00:00)\n",
      "computing Diffusion Maps using n_comps=15(=n_dcs)\n",
      "computing transitions\n",
      "    finished (0:00:00)\n",
      "    eigenvalues of transition matrix\n",
      "    [1.         0.9967179  0.9900288  0.9833275  0.98215723 0.9772958\n",
      "     0.97139955 0.94856584 0.93774116 0.9236797  0.92039305 0.90931743\n",
      "     0.9017304  0.89405185 0.8932249 ]\n",
      "    finished: added\n",
      "    'X_diffmap', diffmap coordinates (adata.obsm)\n",
      "    'diffmap_evals', eigenvalues of transition matrix (adata.uns) (0:00:00)\n",
      "computing Diffusion Pseudotime using n_dcs=10\n",
      "    finished: added\n",
      "    'dpt_pseudotime', the pseudotime (adata.obs) (0:00:00)\n",
      "normalizing by total count per cell\n",
      "    finished (0:00:00): normalized adata.X and added    'n_counts', counts per cell before normalization (adata.obs)\n",
      "If you pass `n_top_genes`, all cutoffs are ignored.\n",
      "extracting highly variable genes\n",
      "    finished (0:00:00)\n",
      "--> added\n",
      "    'highly_variable', boolean vector (adata.var)\n",
      "    'means', float vector (adata.var)\n",
      "    'dispersions', float vector (adata.var)\n",
      "    'dispersions_norm', float vector (adata.var)\n",
      "computing PCA\n",
      "    on highly variable genes\n",
      "    with n_comps=50\n",
      "    finished (0:00:01)\n",
      "computing neighbors\n",
      "    using 'X_pca' with n_pcs = 50\n",
      "    finished: added to `.uns['neighbors']`\n",
      "    `.obsp['distances']`, distances for each pair of neighbors\n",
      "    `.obsp['connectivities']`, weighted adjacency matrix (0:00:00)\n",
      "computing Diffusion Maps using n_comps=15(=n_dcs)\n",
      "computing transitions\n",
      "    finished (0:00:00)\n",
      "    eigenvalues of transition matrix\n",
      "    [1.         0.9916257  0.9805682  0.9743787  0.9604642  0.94253266\n",
      "     0.9111207  0.89628875 0.8881858  0.880616   0.8640835  0.85300773\n",
      "     0.8364718  0.83458865 0.8284605 ]\n",
      "    finished: added\n",
      "    'X_diffmap', diffmap coordinates (adata.obsm)\n",
      "    'diffmap_evals', eigenvalues of transition matrix (adata.uns) (0:00:00)\n",
      "computing Diffusion Pseudotime using n_dcs=10\n",
      "    finished: added\n",
      "    'dpt_pseudotime', the pseudotime (adata.obs) (0:00:00)\n",
      "0.7721095685359041\n",
      "0.0\n"
     ]
    }
   ],
   "source": [
    "adata_2in=ad.AnnData(adata_scGAMNN.X[813:3543,],var=adata_scGAMNN.var)\n",
    "adata_2in.obs['times'] = times[813:3543]\n",
    "sc.pp.neighbors(adata_2in)\n",
    "sc.tl.diffmap(adata_2in)\n",
    "root2=np.flatnonzero(adata_2in.obs['times'] == 1) [0] \n",
    "adata_2in.uns['iroot'] = root2\n",
    "sc.tl.dpt(adata_2in)\n",
    "\n",
    "\n",
    "adata2.obs['times'] = times[813:3543]\n",
    "sc.pp.normalize_per_cell(adata2)\n",
    "sc.pp.log1p(adata2)\n",
    "sc.pp.highly_variable_genes(adata2, n_top_genes=2000, flavor='seurat')\n",
    "adata2 = adata2[:,adata2.var['highly_variable']]\n",
    "sc.tl.pca(adata2, svd_solver='arpack')\n",
    "sc.pp.neighbors(adata2)\n",
    "sc.tl.diffmap(adata2)\n",
    "adata2.uns['iroot'] = root2\n",
    "sc.tl.dpt(adata2)\n",
    "\n",
    "tau2, p_value = stats.kendalltau(adata2.obs['dpt_pseudotime'], adata_2in.obs[\"dpt_pseudotime\"])\n",
    "print(tau2)\n",
    "print(p_value)"
   ]
  },
  {
   "cell_type": "code",
   "execution_count": 8,
   "metadata": {},
   "outputs": [],
   "source": [
    "inte_scGAMNN_df.to_csv('result/inte_scGAMNN_HSCs.csv',index=0)\n",
    "adata_scGAMNN.write('result/adata_scGAMNN_HSCs.h5ad')\n",
    "# adata_scGAMNN=sc.read_h5ad('result/adata_scGAMNN_HSCs.h5ad')"
   ]
  },
  {
   "cell_type": "code",
   "execution_count": 9,
   "metadata": {
    "pycharm": {
     "name": "#%%\n"
    }
   },
   "outputs": [],
   "source": [
    "tau_all=pd.DataFrame([tau1,tau2]).T\n",
    "tau_all.to_csv('result/tau_scGAMNN_HSCs.csv',index=0)\n",
    "\n"
   ]
  }
 ],
 "metadata": {
  "kernelspec": {
   "display_name": "PyCharm (scGAE-main)",
   "language": "python",
   "name": "pycharm-6e616099"
  },
  "language_info": {
   "codemirror_mode": {
    "name": "ipython",
    "version": 3
   },
   "file_extension": ".py",
   "mimetype": "text/x-python",
   "name": "python",
   "nbconvert_exporter": "python",
   "pygments_lexer": "ipython3",
   "version": "3.8.2"
  },
  "pycharm": {
   "stem_cell": {
    "cell_type": "raw",
    "source": [],
    "metadata": {
     "collapsed": false
    }
   }
  }
 },
 "nbformat": 4,
 "nbformat_minor": 1
}