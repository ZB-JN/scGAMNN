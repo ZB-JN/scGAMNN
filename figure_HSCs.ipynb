{
 "cells": [
  {
   "cell_type": "code",
   "execution_count": null,
   "outputs": [],
   "source": [
    "import os\n",
    "import time\n",
    "import warnings\n",
    "import pandas as pd\n",
    "import numpy as np\n",
    "import scanpy as sc\n",
    "import seaborn as sns\n",
    "import matplotlib.pyplot as plt\n",
    "\n",
    "warnings.filterwarnings(\"ignore\")\n",
    "\n",
    "sc.settings.verbosity = 3\n",
    "sc.settings.set_figure_params(dpi=100)\n",
    "sc.settings.set_figure_params(dpi_save=300)\n",
    "sc.logging.print_version_and_date()\n",
    "\n",
    "os.environ[\"CUDA_VISIBLE_DEVICES\"]=\"1\""
   ],
   "metadata": {
    "collapsed": false,
    "pycharm": {
     "name": "#%%\n"
    }
   }
  },
  {
   "cell_type": "markdown",
   "source": [
    "# Batch correction using raw"
   ],
   "metadata": {
    "collapsed": false
   }
  },
  {
   "cell_type": "code",
   "execution_count": null,
   "outputs": [],
   "source": [
    "entropy_raw = pd.read_csv('comparison/deepMNN/raw/entropy_raw_HSCs.csv')\n",
    "inte_raw = pd.read_csv('comparison/deepMNN/raw/inte_raw_HSCs.csv')"
   ],
   "metadata": {
    "collapsed": false,
    "pycharm": {
     "name": "#%%\n"
    }
   }
  },
  {
   "cell_type": "markdown",
   "source": [
    "# Batch correction using fastMNN"
   ],
   "metadata": {
    "collapsed": false
   }
  },
  {
   "cell_type": "code",
   "execution_count": null,
   "outputs": [],
   "source": [
    "entropy_fastMNN = pd.read_csv('comparison/fastMNN/result/entropy_fastMNN_HSCs.csv')\n",
    "inte_fastMNN = pd.read_csv('comparison/fastMNN/result/inte_fastMNN_HSCs.csv')\n",
    "tau_fastMNN = pd.read_csv('comparison/fastMNN/result/tau_fastMNN_HSCs.csv')"
   ],
   "metadata": {
    "collapsed": false,
    "pycharm": {
     "name": "#%%\n"
    }
   }
  },
  {
   "cell_type": "markdown",
   "source": [
    "# Batch correction using deepMNN"
   ],
   "metadata": {
    "collapsed": false
   }
  },
  {
   "cell_type": "code",
   "execution_count": null,
   "outputs": [],
   "source": [
    "entropy_deepMNN = pd.read_csv('comparison/deepMNN/result/entropy_deepMNN_HSCs.csv')\n",
    "inte_deepMNN = pd.read_csv('comparison/deepMNN/result/inte_deepMNN_HSCs.csv')\n",
    "tau_deepMNN = pd.read_csv('comparison/deepMNN/result/tau_deepMNN_HSCs.csv')"
   ],
   "metadata": {
    "collapsed": false,
    "pycharm": {
     "name": "#%%\n"
    }
   }
  },
  {
   "cell_type": "markdown",
   "source": [
    "# Batch correction using harmony"
   ],
   "metadata": {
    "collapsed": false
   }
  },
  {
   "cell_type": "code",
   "execution_count": null,
   "outputs": [],
   "source": [
    "entropy_harmony = pd.read_csv('comparison/harmony/result/entropy_harmony_HSCs.csv')\n",
    "inte_harmony = pd.read_csv('comparison/harmony/result/inte_harmony_HSCs.csv')\n",
    "tau_harmony = pd.read_csv('comparison/harmony/result/tau_harmony_HSCs.csv')"
   ],
   "metadata": {
    "collapsed": false,
    "pycharm": {
     "name": "#%%\n"
    }
   }
  },
  {
   "cell_type": "markdown",
   "source": [
    "# Batch correction using LIGER"
   ],
   "metadata": {
    "collapsed": false
   }
  },
  {
   "cell_type": "code",
   "execution_count": null,
   "outputs": [],
   "source": [
    "entropy_LIGER = pd.read_csv('comparison/LIGER/result/entropy_LIGER_HSCs.csv')\n",
    "inte_LIGER = pd.read_csv('comparison/LIGER/result/inte_LIGER_HSCs.csv')\n",
    "tau_LIGER = pd.read_csv('comparison/LIGER/result/tau_LIGER_HSCs.csv')"
   ],
   "metadata": {
    "collapsed": false,
    "pycharm": {
     "name": "#%%\n"
    }
   }
  },
  {
   "cell_type": "markdown",
   "source": [
    "# Batch correction using seurat v3"
   ],
   "metadata": {
    "collapsed": false
   }
  },
  {
   "cell_type": "code",
   "execution_count": null,
   "outputs": [],
   "source": [
    "entropy_seurat = pd.read_csv('comparison/Seurat V3/result/entropy_seurat_HSCs.csv')\n",
    "inte_seurat = pd.read_csv('comparison/Seurat V3/result/inte_seurat_HSCs.csv')\n",
    "tau_seurat = pd.read_csv('comparison/Seurat V3/result/tau_seurat_HSCs.csv')"
   ],
   "metadata": {
    "collapsed": false,
    "pycharm": {
     "name": "#%%\n"
    }
   }
  },
  {
   "cell_type": "markdown",
   "source": [
    "# Batch correction using scGAMNN"
   ],
   "metadata": {
    "collapsed": false
   }
  },
  {
   "cell_type": "code",
   "execution_count": null,
   "outputs": [],
   "source": [
    "entropy_scGAMNN = pd.read_csv('result/entropy_scGAMNN_HSCs.csv')\n",
    "inte_scGAMNN = pd.read_csv('result/inte_scGAMNN_HSCs.csv')\n",
    "tau_scGAMNN = pd.read_csv('result/tau_scGAMNN_HSCs.csv')"
   ],
   "metadata": {
    "collapsed": false,
    "pycharm": {
     "name": "#%%\n"
    }
   }
  },
  {
   "cell_type": "markdown",
   "source": [
    "# Metrics"
   ],
   "metadata": {
    "collapsed": false
   }
  },
  {
   "cell_type": "code",
   "execution_count": null,
   "outputs": [],
   "source": [
    "\n",
    "import matplotlib.pyplot as plt\n",
    "plt.clf()\n",
    "name_list =['celltypeASW','batchASW']\n",
    "x = list(range(len(name_list)))\n",
    "total_width, n = 0.8, 10\n",
    "width = total_width / n\n",
    "plt.bar(x, inte_fastMNN.values[0].tolist(), width=width, label='fastMNN')\n",
    "for i in range(len(x)):\n",
    "\tx[i] = x[i] + width\n",
    "plt.bar(x, inte_deepMNN.values[0].tolist(), width=width, label='deepMNN')\n",
    "for i in range(len(x)):\n",
    "\tx[i] = x[i] + width\n",
    "plt.bar(x, inte_harmony.values[0].tolist(), width=width, label='Harmony')\n",
    "for i in range(len(x)):\n",
    "\tx[i] = x[i] + width\n",
    "plt.bar(x, inte_LIGER.values[0].tolist(), width=width, label='LIGER')\n",
    "for i in range(len(x)):\n",
    "\tx[i] = x[i] + width\n",
    "plt.bar(x, inte_seurat.values[0].tolist(), width=width, label='Seurat 3')\n",
    "for i in range(len(x)):\n",
    "\tx[i] = x[i] + width\n",
    "plt.bar(x, inte_scGAMNN.values[0].tolist(), width=width, label='scGAMNN')\n",
    "# plt.legend(loc=\"upper right\",prop={'size':4})  \n",
    "plt.legend(bbox_to_anchor=(1.05,1),loc=2,borderaxespad=0)\n",
    "# plt.xticks(range(len(name_list)),name_list)\n",
    "plt.xticks([0.3,1.3],name_list)\n",
    "plt.savefig('figures/inte_score_HSCs.pdf', format='pdf', dpi=300, bbox_inches='tight')\n",
    "plt.clf()\n",
    "\n",
    "\n",
    "import matplotlib.pyplot as plt\n",
    "plt.clf()\n",
    "name_list =['Smart-seq2','MARS-seq']\n",
    "x = list(range(len(name_list)))\n",
    "total_width, n = 0.8, 10\n",
    "width = total_width / n\n",
    "plt.bar(x, tau_fastMNN.values[0].tolist(), width=width, label='fastMNN')\n",
    "for i in range(len(x)):\n",
    "\tx[i] = x[i] + width\n",
    "plt.bar(x, tau_deepMNN.values[0].tolist(), width=width, label='deepMNN')\n",
    "for i in range(len(x)):\n",
    "\tx[i] = x[i] + width\n",
    "plt.bar(x, tau_harmony.values[0].tolist(), width=width, label='Harmony')\n",
    "for i in range(len(x)):\n",
    "\tx[i] = x[i] + width\n",
    "plt.bar(x, tau_LIGER.values[0].tolist(), width=width, label='LIGER')\n",
    "for i in range(len(x)):\n",
    "\tx[i] = x[i] + width\n",
    "plt.bar(x, tau_seurat.values[0].tolist(), width=width, label='Seurat 3')\n",
    "for i in range(len(x)):\n",
    "\tx[i] = x[i] + width\n",
    "plt.bar(x, tau_scGAMNN.values[0].tolist(), width=width, label='scGAMNN')\n",
    "# plt.legend(loc=\"upper right\",prop={'size':4})  \n",
    "plt.legend(bbox_to_anchor=(1.05,1),loc=2,borderaxespad=0)\n",
    "# plt.xticks(range(len(name_list)),name_list)\n",
    "plt.xticks([0.3,1.3],name_list)\n",
    "# plt.show()\n",
    "plt.savefig('figures/tau_score_HSCs.pdf', format='pdf', dpi=300, bbox_inches='tight')\n",
    "plt.clf()\n"
   ],
   "metadata": {
    "collapsed": false,
    "pycharm": {
     "name": "#%%\n"
    }
   }
  },
  {
   "cell_type": "code",
   "execution_count": null,
   "outputs": [],
   "source": [
    "entropy_df = pd.DataFrame()\n",
    "entropy_df['Entropy'] = (entropy_raw['cell_type'].tolist()+entropy_raw['batch'].tolist()\n",
    "                         +entropy_fastMNN['cell_type'].tolist()+entropy_fastMNN['batch'].tolist()\n",
    "                         + entropy_deepMNN['cell_type'].tolist()+ entropy_deepMNN['batch'].tolist()\n",
    "                          +entropy_harmony['cell_type'].tolist() +entropy_harmony['batch'].tolist() \n",
    "                         + entropy_LIGER['cell_type'].tolist()+ entropy_LIGER['batch'].tolist()\n",
    "                         +entropy_seurat['cell_type'].tolist()+entropy_seurat['batch'].tolist()\n",
    "                          + entropy_scGAMNN['cell_type'].tolist()+ entropy_scGAMNN['batch'].tolist())\n",
    "\n",
    "entropy_df['Methods'] =  (['raw'] * entropy_scGAMNN.shape[0]*2 +\n",
    "                     ['fastMNN'] * entropy_scGAMNN.shape[0]*2+\n",
    "                     ['deepMNN'] * entropy_scGAMNN.shape[0]*2+\n",
    "                     ['Harmony'] * entropy_scGAMNN.shape[0]*2 + \n",
    "                     ['LIGER'] * entropy_scGAMNN.shape[0]*2+\n",
    "                     ['Seurat 3'] * entropy_scGAMNN.shape[0] *2+\n",
    "                     ['scGAMNN'] * entropy_scGAMNN.shape[0]*2)\n",
    "\n",
    "entropy_df['Entropy_type'] = (['cell_type'] * entropy_scGAMNN.shape[0] + ['batch'] * entropy_scGAMNN.shape[0] + \n",
    "                              ['cell_type'] * entropy_scGAMNN.shape[0] + ['batch'] * entropy_scGAMNN.shape[0] + \n",
    "                              ['cell_type'] * entropy_scGAMNN.shape[0] + ['batch'] * entropy_scGAMNN.shape[0] + \n",
    "                              ['cell_type'] * entropy_scGAMNN.shape[0] + ['batch'] * entropy_scGAMNN.shape[0] + \n",
    "                              ['cell_type'] * entropy_scGAMNN.shape[0] + ['batch'] * entropy_scGAMNN.shape[0] + \n",
    "                              ['cell_type'] * entropy_scGAMNN.shape[0] + ['batch'] * entropy_scGAMNN.shape[0] +\n",
    "                              ['cell_type'] * entropy_scGAMNN.shape[0] + ['batch'] * entropy_scGAMNN.shape[0])\n",
    "\n",
    "# plt.figure(dpi=300)\n",
    "\n",
    "sns.set_theme(style='white', palette=\"pastel\")\n",
    "\n",
    "sns.boxplot(x='Methods', y='Entropy', whis=(2.5,97.5),  showmeans=False, meanline=False,hue='Entropy_type', palette=['y', 'g'], data=entropy_df)\n",
    "plt.title('Batch and cell type entropies')\n",
    "plt.xlabel('')\n",
    "plt.xticks(rotation=60)\n",
    "plt.legend(bbox_to_anchor=(1.05, 0.6), borderaxespad=0)\n",
    "plt.savefig('figures/Entropy_HSCs.pdf', format='pdf', dpi=300, bbox_inches='tight')\n",
    "plt.clf()\n"
   ],
   "metadata": {
    "collapsed": false,
    "pycharm": {
     "name": "#%%\n"
    }
   }
  }
 ],
 "metadata": {
  "kernelspec": {
   "display_name": "Python 3",
   "language": "python",
   "name": "python3"
  },
  "language_info": {
   "codemirror_mode": {
    "name": "ipython",
    "version": 3
   },
   "file_extension": ".py",
   "mimetype": "text/x-python",
   "name": "python",
   "nbconvert_exporter": "python",
   "pygments_lexer": "ipython3",
   "version": "3.7.9"
  },
  "varInspector": {
   "cols": {
    "lenName": 16,
    "lenType": 16,
    "lenVar": 40
   },
   "kernels_config": {
    "python": {
     "delete_cmd_postfix": "",
     "delete_cmd_prefix": "del ",
     "library": "var_list.py",
     "varRefreshCmd": "print(var_dic_list())"
    },
    "r": {
     "delete_cmd_postfix": ") ",
     "delete_cmd_prefix": "rm(",
     "library": "var_list.r",
     "varRefreshCmd": "cat(var_dic_list()) "
    }
   },
   "types_to_exclude": [
    "module",
    "function",
    "builtin_function_or_method",
    "instance",
    "_Feature"
   ],
   "window_display": false
  },
  "pycharm": {
   "stem_cell": {
    "cell_type": "raw",
    "source": [],
    "metadata": {
     "collapsed": false
    }
   }
  }
 },
 "nbformat": 4,
 "nbformat_minor": 4
}